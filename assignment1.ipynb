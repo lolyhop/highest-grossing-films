{
 "cells": [
  {
   "cell_type": "markdown",
   "metadata": {},
   "source": [
    "### **Data Wrangling and Visualization Assignment 1**\n",
    "\n",
    "#### **Author**: Egor Chernobrovkin (B23-DS-02)\n",
    "#### **Contact**: \n",
    "#### - Email: e.chernobrovkin@innopolis.university  \n",
    "#### - Telegram: @lolyhop\n"
   ]
  },
  {
   "cell_type": "markdown",
   "metadata": {},
   "source": [
    "### **Import necessary libraries**"
   ]
  },
  {
   "cell_type": "code",
   "execution_count": 11,
   "metadata": {},
   "outputs": [
    {
     "data": {
      "text/plain": [
       "True"
      ]
     },
     "execution_count": 11,
     "metadata": {},
     "output_type": "execute_result"
    }
   ],
   "source": [
    "# Standard libraries\n",
    "import os\n",
    "from dataclasses import dataclass\n",
    "from typing import List, Union, Optional, Dict, Any, Tuple\n",
    "from dotenv import load_dotenv\n",
    "import requests\n",
    "import json\n",
    "import re\n",
    "\n",
    "# 3rd party libraries\n",
    "from bs4 import BeautifulSoup, Tag\n",
    "import psycopg2\n",
    "\n",
    "# Load environment variables\n",
    "load_dotenv()"
   ]
  },
  {
   "cell_type": "markdown",
   "metadata": {},
   "source": [
    "### **URLs and Film Model**"
   ]
  },
  {
   "cell_type": "code",
   "execution_count": 2,
   "metadata": {},
   "outputs": [],
   "source": [
    "# Wikipedia URLs\n",
    "wikipedia_url: str = \"https://en.wikipedia.org/wiki/List_of_highest-grossing_films\"\n",
    "wikipedia_base_url: str = \"https://en.wikipedia.org\"\n",
    "\n",
    "# Film model\n",
    "@dataclass\n",
    "class Film:\n",
    "    \"\"\"\n",
    "    Represents a film with the following attributes:\n",
    "    - title: The title of the film\n",
    "    - film_url: The URL of the film on Wikipedia\n",
    "    - release_year: The release year of the film\n",
    "    - director: The director(s) of the film\n",
    "    - box_office: The box office revenue of the film\n",
    "    - country: The country(ies) of the film\n",
    "    \"\"\"\n",
    "    title: Optional[str] = None\n",
    "    film_url: Optional[str] = None\n",
    "    release_year: Optional[int] = None\n",
    "    director: Optional[Union[str, List[str]]] = None\n",
    "    box_office: Optional[float] = None\n",
    "    country: Optional[Union[str, List[str]]] = None\n",
    "\n",
    "    def to_dict(self) -> Dict[str, Any]:\n",
    "        \"\"\"\n",
    "        Converts the Film object to a dictionary.\n",
    "        \"\"\"\n",
    "        return {\n",
    "            'title': self.title,\n",
    "            'film_url': self.film_url,\n",
    "            'release_year': self.release_year,\n",
    "            'director': self.director,\n",
    "            'box_office': self.box_office,\n",
    "            'country': self.country\n",
    "        }\n",
    "    \n",
    "    def to_tuple(self) -> Tuple[str, str, int, str, float, str]:\n",
    "        \"\"\"\n",
    "        Converts the Film object to a tuple.\n",
    "        \"\"\"\n",
    "        return (self.title, self.film_url, self.release_year, ','.join(self.director), self.box_office, ','.join(self.country))\n"
   ]
  },
  {
   "cell_type": "markdown",
   "metadata": {},
   "source": [
    "### **Define helper functions** to get the country and director of the film"
   ]
  },
  {
   "cell_type": "code",
   "execution_count": 3,
   "metadata": {},
   "outputs": [],
   "source": [
    "def get_film_country(film_url: str) -> List[str]:\n",
    "    \"\"\"\n",
    "    Gets the country(ies) of the film using the film URL.\n",
    "    \"\"\"\n",
    "    country_response = requests.get(wikipedia_base_url + film_url)\n",
    "    country_soup = BeautifulSoup(country_response.content, 'html.parser')\n",
    "    country_table = country_soup.find('table', {'class': 'infobox'})\n",
    "    \n",
    "    if not country_table:\n",
    "        return []\n",
    "    \n",
    "    # Find row where th contains \"Country\" or \"Countries\"\n",
    "    country_row: Optional[Tag] = None\n",
    "    for row in country_table.find_all('tr'):\n",
    "        th = row.find('th')\n",
    "        if th and ('country' in th.text.lower() or 'countries' in th.text.lower()):\n",
    "            country_row = row\n",
    "            break\n",
    "            \n",
    "    country: Optional[str] = country_row.find('td').text.strip() if country_row else None\n",
    "    \n",
    "    if not country:\n",
    "        return []\n",
    "\n",
    "    country: str = re.sub(r'\\[\\d+\\]', '', country)\n",
    "    return country.split('\\n')\n",
    "\n",
    "def get_film_director(film_url: str) -> List[str]:\n",
    "    \"\"\"\n",
    "    Gets the director(s) of the film using the film URL.\n",
    "    \"\"\"\n",
    "    director_response = requests.get(wikipedia_base_url + film_url)\n",
    "    director_soup = BeautifulSoup(director_response.content, 'html.parser')\n",
    "    director_table = director_soup.find('table', {'class': 'infobox'})\n",
    "    \n",
    "    if not director_table:\n",
    "        return []\n",
    "    \n",
    "    # Find row where th contains \"Directed by\"\n",
    "    director_row: Optional[Tag] = None\n",
    "    for row in director_table.find_all('tr'):\n",
    "        th = row.find('th')\n",
    "        if th and ('directed' in th.text.lower()):\n",
    "            director_row = row\n",
    "            break\n",
    "            \n",
    "    if not director_row:\n",
    "        return []\n",
    "    \n",
    "    # Get the director from the row\n",
    "    director: str = director_row.find('td').text.strip()\n",
    "    return director.split('\\n')\n",
    "\n",
    "def preprocess_box_office(box_office: Optional[str]) -> Optional[float]:\n",
    "    \"\"\"\n",
    "    Returns the box office of the film as a float.\n",
    "    \"\"\"\n",
    "    if box_office is None:\n",
    "        return None\n",
    "    box_office: str = box_office[box_office.find('$') + 1:]\n",
    "    box_office: str = box_office.replace(',', '')\n",
    "    # Remove all non-numeric characters\n",
    "    box_office: str = re.sub(r'[^0-9.]', '', box_office)\n",
    "    return float(box_office)"
   ]
  },
  {
   "cell_type": "markdown",
   "metadata": {},
   "source": [
    "### **Fetch data about tables on the Wikipedia page**"
   ]
  },
  {
   "cell_type": "code",
   "execution_count": 4,
   "metadata": {},
   "outputs": [
    {
     "name": "stdout",
     "output_type": "stream",
     "text": [
      "Found 89 tables on the wikipedia page!\n",
      "Found 5 tables with films in the caption!\n"
     ]
    }
   ],
   "source": [
    "# Fetch the Wikipedia page\n",
    "response = requests.get(wikipedia_url)\n",
    "soup = BeautifulSoup(response.content, 'html.parser')\n",
    "\n",
    "# Find all the tables on the wikipedia page\n",
    "raw_tables: List[Tag] = soup.find_all('table')\n",
    "\n",
    "print(f\"Found {len(raw_tables)} tables on the wikipedia page!\")\n",
    "\n",
    "# Find all the tables with films in the caption\n",
    "tables_with_films_in_caption: List[Tag] = []\n",
    "for table in raw_tables:\n",
    "    if table.caption and 'film' in table.caption.text.lower():\n",
    "        tables_with_films_in_caption.append(table)\n",
    "\n",
    "print(f\"Found {len(tables_with_films_in_caption)} tables with films in the caption!\")"
   ]
  },
  {
   "cell_type": "markdown",
   "metadata": {},
   "source": [
    "### **Parse the first table into Film objects**"
   ]
  },
  {
   "cell_type": "code",
   "execution_count": 5,
   "metadata": {},
   "outputs": [],
   "source": [
    "# List of Film objects\n",
    "films: List[Film] = []\n",
    "\n",
    "# Parse first table into Film objects\n",
    "table: Tag = tables_with_films_in_caption[0]\n",
    "header_row: Tag = table.find('tr')\n",
    "column_names: List[str] = [col.text.strip().lower().replace(' ', '_') for col in header_row.find_all('th')]\n",
    "rows: List[Tag] = table.find_all('tr')[1:]\n",
    "\n",
    "for idx, row in enumerate(rows):\n",
    "    # Extract data from each row\n",
    "    cells: List[Tag] = row.find_all('td')\n",
    "    title_object: Tag = row.find('th')\n",
    "    title: str = title_object.text.replace('\\n', '')\n",
    "    film_url: str = title_object.find('a')['href']\n",
    "\n",
    "    # Get the release year of the film\n",
    "    try:\n",
    "        release_year_idx: int = column_names.index('year') - 1\n",
    "        release_year: str = cells[release_year_idx].text.strip()\n",
    "    except Exception:\n",
    "        print(f\"No year found for {title} | {release_year_idx}\")\n",
    "        release_year: str = None\n",
    "\n",
    "    # Get the box office of the film\n",
    "    box_office: Optional[str] = None\n",
    "    box_office_idx: Optional[int] = None\n",
    "    for i, col in enumerate(column_names):\n",
    "        if 'gross' in col.lower():\n",
    "            box_office_idx: int = i - 1\n",
    "            break\n",
    "    \n",
    "    if box_office_idx is not None:\n",
    "        box_office: str = cells[box_office_idx].text.strip()\n",
    "        \n",
    "    # Preprocess main elements of the Film object\n",
    "    country: List[str] = get_film_country(film_url)\n",
    "    director: List[str] = get_film_director(film_url)\n",
    "    box_office: Optional[float] = preprocess_box_office(box_office)\n",
    "    \n",
    "    # Create a Film object and append it to the list\n",
    "    film: Film = Film(title=title,\n",
    "                      film_url=wikipedia_base_url + film_url,\n",
    "                      release_year=release_year,\n",
    "                      box_office=box_office,\n",
    "                      country=country,\n",
    "                      director=director)\n",
    "    films.append(film)"
   ]
  },
  {
   "cell_type": "markdown",
   "metadata": {},
   "source": [
    "### **Transfer films to Postgres database**\n",
    "\n",
    "#### We will create a table in local Postgres database and transfer the films to it"
   ]
  },
  {
   "cell_type": "code",
   "execution_count": null,
   "metadata": {},
   "outputs": [],
   "source": [
    "# Connect to the database\n",
    "creds: Dict[str, str] = {\n",
    "    \"host\": os.getenv(\"HOST\"),\n",
    "    \"port\": os.getenv(\"PORT\"),\n",
    "    \"database\": os.getenv(\"DATABASE\"),\n",
    "    \"user\": os.getenv(\"USER\"),\n",
    "    \"password\": os.getenv(\"PASSWORD\")\n",
    "}\n",
    "\n",
    "\n",
    "conn = psycopg2.connect(**creds)\n",
    "\n",
    "# Create a cursor\n",
    "cursor = conn.cursor()"
   ]
  },
  {
   "cell_type": "code",
   "execution_count": 14,
   "metadata": {},
   "outputs": [],
   "source": [
    "# Create a table\n",
    "cursor.execute(\"\"\"\n",
    "    CREATE TABLE IF NOT EXISTS films (\n",
    "        id SERIAL PRIMARY KEY,\n",
    "        title TEXT,\n",
    "        film_url TEXT,\n",
    "        release_year INTEGER,\n",
    "        director TEXT,\n",
    "        box_office FLOAT,\n",
    "        country TEXT\n",
    "    )\n",
    "\"\"\")\n",
    "\n",
    "# Clear the table if it's not empty\n",
    "cursor.execute(\"DELETE FROM films\")\n",
    "\n",
    "# Insert the films into the table\n",
    "for film in films:\n",
    "    cursor.execute(\"\"\"\n",
    "        INSERT INTO films (title, film_url, release_year, director, box_office, country)\n",
    "        VALUES (%s, %s, %s, %s, %s, %s)\n",
    "    \"\"\", film.to_tuple())\n",
    "\n",
    "# Commit the changes\n",
    "conn.commit()"
   ]
  },
  {
   "cell_type": "markdown",
   "metadata": {},
   "source": [
    "### **Read the data from the database and save it to JSON file**"
   ]
  },
  {
   "cell_type": "code",
   "execution_count": 15,
   "metadata": {},
   "outputs": [],
   "source": [
    "cursor.execute(\"SELECT * FROM films\")\n",
    "films: List[Film] = [Film(*film[1:]) for film in cursor.fetchall()]\n",
    "films_dicts: List[Dict[str, Any]] = [film.to_dict() for film in films]\n",
    "\n",
    "# Save the films to a JSON file\n",
    "with open('films.json', 'w') as f:\n",
    "    json.dump(films_dicts, f, indent=4, ensure_ascii=False)"
   ]
  },
  {
   "cell_type": "code",
   "execution_count": 16,
   "metadata": {},
   "outputs": [
    {
     "name": "stdout",
     "output_type": "stream",
     "text": [
      "Saved 50 films to films.json\n"
     ]
    }
   ],
   "source": [
    "print(f\"Saved {len(films_dicts)} films to films.json\")"
   ]
  }
 ],
 "metadata": {
  "kernelspec": {
   "display_name": "ml",
   "language": "python",
   "name": "python3"
  },
  "language_info": {
   "codemirror_mode": {
    "name": "ipython",
    "version": 3
   },
   "file_extension": ".py",
   "mimetype": "text/x-python",
   "name": "python",
   "nbconvert_exporter": "python",
   "pygments_lexer": "ipython3",
   "version": "3.12.3"
  }
 },
 "nbformat": 4,
 "nbformat_minor": 2
}
